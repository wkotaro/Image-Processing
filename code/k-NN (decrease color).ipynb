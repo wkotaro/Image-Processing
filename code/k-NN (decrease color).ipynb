{
 "cells": [
  {
   "cell_type": "code",
   "execution_count": 1,
   "metadata": {},
   "outputs": [],
   "source": [
    "import cv2\n",
    "import numpy as np\n",
    "from matplotlib import pyplot as plt\n",
    "from glob import glob"
   ]
  },
  {
   "cell_type": "code",
   "execution_count": 2,
   "metadata": {},
   "outputs": [],
   "source": [
    "# Dicrease color\n",
    "def dic_color(img):\n",
    "    img //= 63\n",
    "    img = img * 64 + 32\n",
    "    return img"
   ]
  },
  {
   "cell_type": "code",
   "execution_count": 17,
   "metadata": {},
   "outputs": [],
   "source": [
    "# Database\n",
    "def get_DB():\n",
    "    # get image paths\n",
    "    train = glob(\"../dataset/train_*\")\n",
    "    train.sort()\n",
    "\n",
    "    # prepare database\n",
    "    db = np.zeros((len(train), 13), dtype=np.int32)\n",
    "\n",
    "    pdb = []\n",
    "    # each image\n",
    "    for i, path in enumerate(train):\n",
    "        img = dic_color(cv2.imread(path))\n",
    "        \n",
    "        # get histogram\n",
    "        for j in range(4):\n",
    "            db[i, j] = len(np.where(img[..., 0] == (64 * j + 32))[0])\n",
    "            db[i, j+4] = len(np.where(img[..., 1] == (64 * j + 32))[0])\n",
    "            db[i, j+8] = len(np.where(img[..., 2] == (64 * j + 32))[0])\n",
    "\n",
    "        # get class\n",
    "        if 'akahara' in path:\n",
    "            cls = 0\n",
    "        elif 'madara' in path:\n",
    "            cls = 1\n",
    "\n",
    "        # store class label\n",
    "        db[i, -1] = cls\n",
    "\n",
    "        pdb.append(path)\n",
    "\n",
    "    return db, pdb"
   ]
  },
  {
   "cell_type": "code",
   "execution_count": 18,
   "metadata": {
    "scrolled": false
   },
   "outputs": [],
   "source": [
    "# test\n",
    "def test_DB(db, pdb, N=3):\n",
    "    # get test image path\n",
    "    test = glob(\"../dataset/test_*\")\n",
    "    test.sort()\n",
    "\n",
    "    accuracy_N = 0.\n",
    "\n",
    "    # each image\n",
    "    for path in test:\n",
    "        # read image\n",
    "        img = dic_color(cv2.imread(path))\n",
    "\n",
    "        # get histogram\n",
    "        hist = np.zeros(12, dtype=np.int32)\n",
    "        for j in range(4):\n",
    "            hist[j] = len(np.where(img[..., 0] == (64 * j + 32))[0])\n",
    "            hist[j+4] = len(np.where(img[..., 1] == (64 * j + 32))[0])\n",
    "            hist[j+8] = len(np.where(img[..., 2] == (64 * j + 32))[0])\n",
    "\n",
    "        # get histogram difference\n",
    "        difs = np.abs(db[:, :12] - hist)\n",
    "        difs = np.sum(difs, axis=1)\n",
    "\n",
    "        # get top N\n",
    "        pred_i = np.argsort(difs)[:N]\n",
    "\n",
    "        # predict class index\n",
    "        pred = db[pred_i, -1]\n",
    "\n",
    "        # get class label\n",
    "        if len(pred[pred == 0]) > len(pred[pred == 1]):\n",
    "            pl = \"akahara\"\n",
    "        else:\n",
    "            pl = 'madara'\n",
    "\n",
    "        print(path, \"is similar >> \", end='')\n",
    "        for i in pred_i:\n",
    "            print(pdb[i], end=', ')\n",
    "        print(\"|Pred >>\", pl)\n",
    "\n",
    "        # count accuracy\n",
    "        gt = \"akahara\" if \"akahara\" in path else \"madara\"\n",
    "        if gt == pl:\n",
    "            accuracy_N += 1.\n",
    "\n",
    "    accuracy = accuracy_N / len(test)\n",
    "    print(\"Accuracy >>\", accuracy, \"({}/{})\".format(int(accuracy_N), len(test)))"
   ]
  },
  {
   "cell_type": "code",
   "execution_count": 19,
   "metadata": {},
   "outputs": [
    {
     "name": "stdout",
     "output_type": "stream",
     "text": [
      "../dataset/test_akahara_1.jpg is similar >> ../dataset/train_akahara_3.jpg, ../dataset/train_akahara_2.jpg, ../dataset/train_akahara_4.jpg, |Pred >> akahara\n",
      "../dataset/test_akahara_2.jpg is similar >> ../dataset/train_akahara_1.jpg, ../dataset/train_akahara_2.jpg, ../dataset/train_akahara_4.jpg, |Pred >> akahara\n",
      "../dataset/test_madara_1.jpg is similar >> ../dataset/train_madara_2.jpg, ../dataset/train_madara_4.jpg, ../dataset/train_madara_3.jpg, |Pred >> madara\n",
      "../dataset/test_madara_2.jpg is similar >> ../dataset/train_akahara_2.jpg, ../dataset/train_madara_3.jpg, ../dataset/train_madara_2.jpg, |Pred >> madara\n",
      "Accuracy >> 1.0 (4/4)\n"
     ]
    }
   ],
   "source": [
    "db, pdb = get_DB()\n",
    "test_DB(db, pdb)"
   ]
  },
  {
   "cell_type": "code",
   "execution_count": null,
   "metadata": {},
   "outputs": [],
   "source": []
  }
 ],
 "metadata": {
  "kernelspec": {
   "display_name": "Python 3",
   "language": "python",
   "name": "python3"
  },
  "language_info": {
   "codemirror_mode": {
    "name": "ipython",
    "version": 3
   },
   "file_extension": ".py",
   "mimetype": "text/x-python",
   "name": "python",
   "nbconvert_exporter": "python",
   "pygments_lexer": "ipython3",
   "version": "3.7.5"
  }
 },
 "nbformat": 4,
 "nbformat_minor": 2
}
