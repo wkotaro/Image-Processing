{
 "cells": [
  {
   "cell_type": "code",
   "execution_count": 1,
   "metadata": {},
   "outputs": [],
   "source": [
    "import cv2\n",
    "import numpy as np\n",
    "from matplotlib import pyplot as plt\n",
    "import random\n",
    "import sys"
   ]
  },
  {
   "cell_type": "code",
   "execution_count": 2,
   "metadata": {},
   "outputs": [],
   "source": [
    "# Gray Scale\n",
    "gray = cv2.imread(\"../assets/seg.png\", 0)"
   ]
  },
  {
   "cell_type": "code",
   "execution_count": 3,
   "metadata": {},
   "outputs": [],
   "source": [
    "# Otsu's Binarization\n",
    "binary = cv2.threshold(gray, 0, 255, cv2.THRESH_BINARY | cv2.THRESH_OTSU)[1]"
   ]
  },
  {
   "cell_type": "code",
   "execution_count": 39,
   "metadata": {},
   "outputs": [],
   "source": [
    "# Labeling\n",
    "n, label = cv2.connectedComponents(binary, connectivity=8)"
   ]
  },
  {
   "cell_type": "code",
   "execution_count": 40,
   "metadata": {},
   "outputs": [],
   "source": [
    "# Preparing labeling result\n",
    "color_src = cv2.cvtColor(binary, cv2.COLOR_GRAY2BGR)\n",
    "h, w = binary.shape[:2]\n",
    "colors = []\n",
    "\n",
    "for i in range(1, n+1):\n",
    "    colors.append(np.array([random.randint(0, 255), random.randint(0, 255), random.randint(0, 255)]))"
   ]
  },
  {
   "cell_type": "code",
   "execution_count": 41,
   "metadata": {},
   "outputs": [],
   "source": [
    "# Displaying labeling result\n",
    "# Paint each object\n",
    "for y in range(0, h):\n",
    "    for x in  range(0,w):\n",
    "        if label[y, x] > 0:\n",
    "            color_src[y, x] = colors[label[y, x]]\n",
    "        else:\n",
    "            color_src[y, x] = [0, 0, 0]"
   ]
  },
  {
   "cell_type": "code",
   "execution_count": 42,
   "metadata": {},
   "outputs": [
    {
     "data": {
      "text/plain": [
       "<matplotlib.image.AxesImage at 0x116d86a10>"
      ]
     },
     "execution_count": 42,
     "metadata": {},
     "output_type": "execute_result"
    },
    {
     "data": {
      "image/png": "[encoded data removed]",
      "text/plain": [
       "<Figure size 720x720 with 2 Axes>"
      ]
     },
     "metadata": {
      "needs_background": "light"
     },
     "output_type": "display_data"
    }
   ],
   "source": [
    "# A number of objects \n",
    "cv2.putText(color_src, str(n - 1), (70, 70), cv2.FONT_HERSHEY_PLAIN, 1, (0, 255, 255))\n",
    "\n",
    "plt.figure(figsize=(10,10))\n",
    "plt.subplot(121)\n",
    "plt.imshow(color_src)\n",
    "plt.subplot(122)\n",
    "plt.imshow(binary, cmap=\"gray\")"
   ]
  },
  {
   "cell_type": "code",
   "execution_count": 47,
   "metadata": {},
   "outputs": [],
   "source": [
    "# Labeling (detail)\n",
    "label2 = cv2.connectedComponentsWithStats(binary, connectivity = 8)"
   ]
  },
  {
   "cell_type": "code",
   "execution_count": 48,
   "metadata": {},
   "outputs": [],
   "source": [
    "# Object information extraction\n",
    "m = label2[0] - 1\n",
    "data = np.delete(label2[2], 0, 0)\n",
    "center = np.delete(label2[3], 0, 0)"
   ]
  },
  {
   "cell_type": "code",
   "execution_count": 49,
   "metadata": {},
   "outputs": [],
   "source": [
    "# Binarization > BGR\n",
    "color_src1 = cv2.cvtColor(gray, cv2.COLOR_GRAY2BGR)"
   ]
  },
  {
   "cell_type": "code",
   "execution_count": 50,
   "metadata": {},
   "outputs": [],
   "source": [
    "# Display labeling result\n",
    "for i in range(m):\n",
    "    # Display rectangle of each object\n",
    "    x0 = data[i][0]\n",
    "    y0 = data[i][1]\n",
    "    x1 = data[i][0] + data[i][2]\n",
    "    y1 = data[i][1] + data[i][3]\n",
    "    cv2.rectangle(color_src1, (x0, y0), (x1, y1), (0, 0, 255))\n",
    "\n",
    "    # Labeling number and area \n",
    "    cv2.putText(color_src1, \"ID: \" +str(i + 1), (x0, y1 + 15), cv2.FONT_HERSHEY_PLAIN, 0.5, (0, 255, 255))\n",
    "    cv2.putText(color_src1, \"S: \" +str(data[i][4]), (x0, y1 + 30), cv2.FONT_HERSHEY_PLAIN, 0.5, (0, 255, 255))\n",
    "\n",
    "    # Center of gravity \n",
    "    cv2.putText(color_src1, \"X: \" + str(int(center[i][0])), (x1 - 10, y1 + 15), cv2.FONT_HERSHEY_PLAIN, 0.5, (0, 255, 255))\n",
    "    cv2.putText(color_src1, \"Y: \" + str(int(center[i][1])), (x1 - 10, y1 + 30), cv2.FONT_HERSHEY_PLAIN, 0.5, (0, 255, 255))"
   ]
  },
  {
   "cell_type": "code",
   "execution_count": 51,
   "metadata": {},
   "outputs": [
    {
     "data": {
      "text/plain": [
       "<matplotlib.image.AxesImage at 0x114682210>"
      ]
     },
     "execution_count": 51,
     "metadata": {},
     "output_type": "execute_result"
    },
    {
     "data": {
      "image/png": "[encoded data removed]",
      "text/plain": [
       "<Figure size 720x720 with 1 Axes>"
      ]
     },
     "metadata": {
      "needs_background": "light"
     },
     "output_type": "display_data"
    }
   ],
   "source": [
    "plt.figure(figsize=(10,10))\n",
    "plt.imshow(color_src1)"
   ]
  },
  {
   "cell_type": "code",
   "execution_count": null,
   "metadata": {},
   "outputs": [],
   "source": []
  }
 ],
 "metadata": {
  "kernelspec": {
   "display_name": "Python 3",
   "language": "python",
   "name": "python3"
  },
  "language_info": {
   "codemirror_mode": {
    "name": "ipython",
    "version": 3
   },
   "file_extension": ".py",
   "mimetype": "text/x-python",
   "name": "python",
   "nbconvert_exporter": "python",
   "pygments_lexer": "ipython3",
   "version": "3.7.5"
  }
 },
 "nbformat": 4,
 "nbformat_minor": 2
}
